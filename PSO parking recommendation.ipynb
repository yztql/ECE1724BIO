{
  "nbformat": 4,
  "nbformat_minor": 0,
  "metadata": {
    "colab": {
      "provenance": []
    },
    "kernelspec": {
      "name": "python3",
      "display_name": "Python 3"
    },
    "language_info": {
      "name": "python"
    }
  },
  "cells": [
    {
      "cell_type": "markdown",
      "source": [
        "# PSO based Parking Recommendation System\n",
        "\n",
        "This notebook provides a parking recommendation system that selects an optimal parking lot near a given destination using a heuristic optimization approach.\n",
        "\n",
        "**Key Features:**\n",
        "- Calculates the distance of each parking lot from the destination using the Haversine formula.\n",
        "- Scores parking lots based on weighted criteria (distance, cost, and accessibility).\n",
        "- Applies a search radius to limit the number of considered parking lots.\n",
        "- Attempts an extended search radius if none are found within the initial search range.\n",
        "- Provides a folium-based map visualization of recommended parking lots, highlighting the best option.\n",
        "\n",
        "**Requirements:**\n",
        "- A CSV file named `Parking_Lot_Dataset.csv` containing:\n",
        "  - `id`, `lat`, `lng`, `rate_hourly`\n",
        "\n",
        "**Instructions:**\n",
        "1. Update the `destination` variable with your desired coordinates.\n",
        "2. Run all cells to generate recommendations and visualize results.\n",
        "3. The results will be saved as `parking_recommendation.html` file.\n",
        "\n",
        "---\n",
        "\n"
      ],
      "metadata": {
        "id": "9pZsBeTU1S8v"
      }
    },
    {
      "cell_type": "markdown",
      "source": [
        "## Imports and Setup\n",
        "\n",
        "Below we import all the necessary libraries and define supporting functions and classes."
      ],
      "metadata": {
        "id": "E6q3pJX-XynW"
      }
    },
    {
      "cell_type": "code",
      "source": [
        "import pandas as pd\n",
        "import numpy as np\n",
        "from math import radians, sin, cos, sqrt, atan2\n",
        "import folium\n",
        "from typing import List, Tuple, Dict\n",
        "import random"
      ],
      "metadata": {
        "id": "QM6By5SSX2Rh"
      },
      "execution_count": 1,
      "outputs": []
    },
    {
      "cell_type": "markdown",
      "source": [
        "## Class Definition\n",
        "\n",
        "`ParkingOptimizer` is responsible for:\n",
        "- Filtering parking lots based on a given search radius.\n",
        "- Computing the Haversine distance for each lot to the destination.\n",
        "- Calculating a fitness score for each parking lot.\n",
        "- Providing recommendations and visualizations."
      ],
      "metadata": {
        "id": "bpdk-oHGX1jj"
      }
    },
    {
      "cell_type": "code",
      "execution_count": 2,
      "metadata": {
        "collapsed": true,
        "id": "I2_nk0ZBQMF_"
      },
      "outputs": [],
      "source": [
        "class ParkingOptimizer:\n",
        "    def __init__(self, parking_data: pd.DataFrame, destination: Tuple[float, float],\n",
        "                 weights: Dict[str, float] = None, search_radius: int = 800):\n",
        "        \"\"\"\n",
        "        Initialize the parking optimizer\n",
        "        \"\"\"\n",
        "        self.parking_data = parking_data\n",
        "        self.destination = destination\n",
        "        self.weights = weights or {'distance': 0.5, 'cost': 0.3, 'accessibility': 0.2}\n",
        "        self.search_radius = search_radius\n",
        "\n",
        "        # Calculate distances for all parking lots\n",
        "        self.parking_data['distance'] = self.parking_data.apply(\n",
        "            lambda row: self.haversine_distance(\n",
        "                row['lat'], row['lng'],\n",
        "                self.destination[0], self.destination[1]\n",
        "            ),\n",
        "            axis=1\n",
        "        )\n",
        "\n",
        "        # Filter parking lots within search radius\n",
        "        self.filtered_data = self.parking_data[self.parking_data['distance'] <= self.search_radius].copy()\n",
        "\n",
        "        # PSO parameters\n",
        "        self.num_particles = min(20, len(self.filtered_data))\n",
        "        self.max_iterations = 50\n",
        "        self.c1 = 2.0\n",
        "        self.c2 = 2.0\n",
        "        self.w = 0.7\n",
        "\n",
        "    def haversine_distance(self, lat1: float, lon1: float, lat2: float, lon2: float) -> float:\n",
        "        \"\"\"Calculate the distance between two points on Earth\"\"\"\n",
        "        R = 6371000  # Earth's radius in meters\n",
        "        lat1, lon1, lat2, lon2 = map(radians, [lat1, lon1, lat2, lon2])\n",
        "        dlat = lat2 - lat1\n",
        "        dlon = lon2 - lon1\n",
        "        a = sin(dlat/2)**2 + cos(lat1) * cos(lat2) * sin(dlon/2)**2\n",
        "        c = 2 * atan2(sqrt(a), sqrt(1-a))\n",
        "        return R * c\n",
        "\n",
        "    def calculate_fitness(self, parking_lot: pd.Series) -> float:\n",
        "        \"\"\"Calculate fitness score for a parking lot\"\"\"\n",
        "        max_distance = self.filtered_data['distance'].max()\n",
        "        max_cost = self.filtered_data['rate_hourly'].max()\n",
        "\n",
        "        distance_score = (max_distance - parking_lot['distance']) / max_distance if max_distance > 0 else 1\n",
        "        cost_score = (max_cost - parking_lot['rate_hourly']) / max_cost if max_cost > 0 else 1\n",
        "        accessibility_score = random.uniform(0.7, 1.0)\n",
        "\n",
        "        fitness = (\n",
        "            self.weights['distance'] * distance_score +\n",
        "            self.weights['cost'] * cost_score +\n",
        "            self.weights['accessibility'] * accessibility_score\n",
        "        )\n",
        "        return fitness\n",
        "\n",
        "    def get_recommendations(self) -> pd.DataFrame:\n",
        "        \"\"\"Get all parking lots with their fitness scores\"\"\"\n",
        "        if len(self.filtered_data) == 0:\n",
        "            return pd.DataFrame()\n",
        "\n",
        "        self.filtered_data['fitness'] = self.filtered_data.apply(self.calculate_fitness, axis=1)\n",
        "        return self.filtered_data.sort_values('fitness', ascending=False)\n",
        "\n",
        "    def visualize_results(self, recommendations: pd.DataFrame) -> folium.Map:\n",
        "        \"\"\"Create a map visualization\"\"\"\n",
        "        m = folium.Map(location=[self.destination[0], self.destination[1]], zoom_start=15)\n",
        "\n",
        "        # Add destination marker\n",
        "        folium.Marker(\n",
        "            [self.destination[0], self.destination[1]],\n",
        "            popup='Destination',\n",
        "            icon=folium.Icon(color='red', icon='info-sign')\n",
        "        ).add_to(m)\n",
        "\n",
        "        # Add search radius circle\n",
        "        folium.Circle(\n",
        "            radius=self.search_radius,\n",
        "            location=[self.destination[0], self.destination[1]],\n",
        "            color='red',\n",
        "            fill=True,\n",
        "            fillOpacity=0.1\n",
        "        ).add_to(m)\n",
        "\n",
        "        # Add all parking lots (black markers)\n",
        "        for _, lot in self.parking_data.iterrows():\n",
        "            popup_text = f\"\"\"\n",
        "                ID: {lot['id']}<br>\n",
        "                Rate: ${lot['rate_hourly']}/hr<br>\n",
        "                Distance: {lot['distance']:.0f}m\n",
        "            \"\"\"\n",
        "            folium.Marker(\n",
        "                [lot['lat'], lot['lng']],\n",
        "                popup=popup_text,\n",
        "                icon=folium.Icon(color='black')\n",
        "            ).add_to(m)\n",
        "\n",
        "        # Add recommended parking lots (green for best, blue for others)\n",
        "        if not recommendations.empty:\n",
        "            best_lot = recommendations.iloc[0]\n",
        "            for _, lot in recommendations.iterrows():\n",
        "                color = 'green' if lot['id'] == best_lot['id'] else 'blue'\n",
        "                popup_text = f\"\"\"\n",
        "                    ID: {lot['id']}<br>\n",
        "                    Rate: ${lot['rate_hourly']}/hr<br>\n",
        "                    Distance: {lot['distance']:.0f}m<br>\n",
        "                    Fitness Score: {lot['fitness']:.3f}\n",
        "                \"\"\"\n",
        "                folium.Marker(\n",
        "                    [lot['lat'], lot['lng']],\n",
        "                    popup=popup_text,\n",
        "                    icon=folium.Icon(color=color)\n",
        "                ).add_to(m)\n",
        "\n",
        "        return m"
      ]
    },
    {
      "cell_type": "markdown",
      "source": [
        "## Main Function\n",
        "\n",
        "`parking_recommendation`:\n",
        "- Loads the parking data (here we keep the same structure to avoid altering logic).\n",
        "- Instantiates `ParkingOptimizer`.\n",
        "- Retrieves recommendations.\n",
        "- Prints out the best lot and other available lots.\n",
        "- Visualizes and saves results as `parking_recommendation.html`.\n"
      ],
      "metadata": {
        "id": "Jq9UnZh4YA6O"
      }
    },
    {
      "cell_type": "code",
      "source": [
        "def parking_recommendation(destination: Tuple[float, float], search_radius: int = 800) -> None:\n",
        "    \"\"\"Main function to run parking optimization\"\"\"\n",
        "    parking_data = pd.read_csv('Parking_Lot_Dataset.csv')\n",
        "\n",
        "    weights = {\n",
        "        'distance': 0.5,\n",
        "        'cost': 0.3,\n",
        "        'accessibility': 0.2\n",
        "    }\n",
        "\n",
        "    # Try with initial search radius\n",
        "    optimizer = ParkingOptimizer(parking_data, destination, weights, search_radius)\n",
        "    recommendations = optimizer.get_recommendations()\n",
        "\n",
        "    if recommendations.empty:\n",
        "        print(f\"No parking lots are available within {search_radius} meters radius.\")\n",
        "        # Try with 1.5 times search radius\n",
        "        extended_radius = int(search_radius * 1.5)\n",
        "        print(f\"Trying extended radius of {extended_radius} meters...\")\n",
        "        optimizer = ParkingOptimizer(parking_data, destination, weights, extended_radius)\n",
        "        recommendations = optimizer.get_recommendations()\n",
        "\n",
        "        if recommendations.empty:\n",
        "            print(f\"No parking lots are available within {extended_radius} meters radius.\")\n",
        "            map_viz = optimizer.visualize_results(recommendations)\n",
        "            map_viz.save('parking_recommendation.html')\n",
        "            return\n",
        "\n",
        "    current_radius = optimizer.search_radius\n",
        "    best_lot = recommendations.iloc[0]\n",
        "\n",
        "    print(f\"\\nBest Parking Lot Found in {current_radius}m:\")\n",
        "    print(f\"ID: {best_lot['id']}\")\n",
        "    print(f\"Location: ({best_lot['lat']}, {best_lot['lng']})\")\n",
        "    print(f\"Hourly Rate: ${best_lot['rate_hourly']}\")\n",
        "    print(f\"Distance to destination: {best_lot['distance']:.0f}m\")\n",
        "    print(f\"Fitness Score: {best_lot['fitness']:.3f}\")\n",
        "\n",
        "    if len(recommendations) > 1:\n",
        "        print(\"\\nOther Available Parking Lots:\")\n",
        "        for _, lot in recommendations.iloc[1:].iterrows():\n",
        "            print(f\"\\nID: {lot['id']}\")\n",
        "            print(f\"Location: ({lot['lat']}, {lot['lng']})\")\n",
        "            print(f\"Rate: ${lot['rate_hourly']}/hr\")\n",
        "            print(f\"Distance: {lot['distance']:.0f}m\")\n",
        "            print(f\"Fitness Score: {lot['fitness']:.3f}\")\n",
        "\n",
        "    map_viz = optimizer.visualize_results(recommendations)\n",
        "    map_viz.save('parking_recommendation.html')"
      ],
      "metadata": {
        "id": "L1pOB_-mX_LL"
      },
      "execution_count": 3,
      "outputs": []
    },
    {
      "cell_type": "markdown",
      "source": [
        "## Run the Recommendation\n",
        "\n",
        "Adjust the `destination` and `search_radius` as desired."
      ],
      "metadata": {
        "id": "-ju30tslYKco"
      }
    },
    {
      "cell_type": "code",
      "source": [
        "print(\"Finding parking lot...\")\n",
        "destination =  (43.6532, -79.3832)\n",
        "parking_recommendation(destination, search_radius=500)"
      ],
      "metadata": {
        "colab": {
          "base_uri": "https://localhost:8080/"
        },
        "id": "QRmYgIqLXNNe",
        "outputId": "5d787db8-0134-4d77-b316-7082d5c402e4"
      },
      "execution_count": 5,
      "outputs": [
        {
          "output_type": "stream",
          "name": "stdout",
          "text": [
            "Finding parking lot...\n",
            "\n",
            "Best Parking Lot Found in 500m:\n",
            "ID: 16.0\n",
            "Location: (43.651696, -79.383699)\n",
            "Hourly Rate: $7.0\n",
            "Distance to destination: 172m\n",
            "Fitness Score: 0.551\n",
            "\n",
            "Other Available Parking Lots:\n",
            "\n",
            "ID: 15.0\n",
            "Location: (43.656004, -79.379933)\n",
            "Rate: $6.0/hr\n",
            "Distance: 408m\n",
            "Fitness Score: 0.297\n",
            "\n",
            "ID: 135.0\n",
            "Location: (43.65563165773406, -79.3857854604721)\n",
            "Rate: $8.0/hr\n",
            "Distance: 341m\n",
            "Fitness Score: 0.293\n",
            "\n",
            "ID: 12.0\n",
            "Location: (43.652705, -79.377218)\n",
            "Rate: $7.0/hr\n",
            "Distance: 484m\n",
            "Fitness Score: 0.182\n"
          ]
        }
      ]
    },
    {
      "cell_type": "markdown",
      "source": [
        "## Output and Visualization\n",
        "\n",
        "- The best lot and other recommendations are printed in the cell above.\n",
        "- A map (`parking_recommendation.html`) is saved in the current directory, which can be opened to visualize the results.\n"
      ],
      "metadata": {
        "id": "TLhS4NcVYRo0"
      }
    }
  ]
}